{
 "cells": [
  {
   "cell_type": "markdown",
   "metadata": {},
   "source": [
    "# ANALYSIS"
   ]
  },
  {
   "cell_type": "markdown",
   "metadata": {},
   "source": [
    "## LINEAR REGRESSION"
   ]
  },
  {
   "cell_type": "markdown",
   "metadata": {},
   "source": [
    "This project performed linear regression(LR1) on total victims and prior signs of mental health. The r-squared score and mean squared error on the working set was very very low. Then, another y feature obtaining weapon legally was added to perform another linear regression(LR2). The r-sqaured dropped even more. There was no relationship among any of the attributes. Below is the graph of the linear regreession."
   ]
  },
  {
   "cell_type": "markdown",
   "metadata": {},
   "source": [
    "<img src=\"LR.png\" align=center>"
   ]
  },
  {
   "cell_type": "markdown",
   "metadata": {},
   "source": [
    "## Classification"
   ]
  },
  {
   "cell_type": "markdown",
   "metadata": {},
   "source": [
    "Decision Tree was used for classification of dataset.The training set has and accuracy of 68% whereas the F1-Score is 68%. The test set has the accuracy of 42% whereas the F1-score is 43%. I, then, used SVM to perform classification.The accuracy of training set is 65% and the F1-score is 58%. The test set has the accuracy of 78% whereas the F1-score is 76%.\n",
    "\n",
    "The accuracy and F1 score using SVM is better than using tree classifier. The accuracy of the test set is 42% using decision tree whereas the accuracy of test set using SVM is 78%. The same way, f1 score using decision tree for the test set is 43% where as f1 score using 76%."
   ]
  },
  {
   "cell_type": "markdown",
   "metadata": {},
   "source": [
    "<img src=\"classification.png\" align=center>"
   ]
  },
  {
   "cell_type": "markdown",
   "metadata": {},
   "source": [
    "## CLUSTERING"
   ]
  },
  {
   "cell_type": "markdown",
   "metadata": {},
   "source": [
    "This project also tried to cluster the relation between weapons obtained legally and prior mental health signs. There was no cluster in the features. \n",
    "<img src=\"cluster.png\">"
   ]
  },
  {
   "cell_type": "markdown",
   "metadata": {},
   "source": [
    "Additional information about technical results can be found in: https://github.com/44-599-machine-learning-S19/machine-learning-project-priyanka-khanal/blob/master/classification.ipynb "
   ]
  },
  {
   "cell_type": "code",
   "execution_count": null,
   "metadata": {},
   "outputs": [],
   "source": []
  }
 ],
 "metadata": {
  "kernelspec": {
   "display_name": "Python 3",
   "language": "python",
   "name": "python3"
  },
  "language_info": {
   "codemirror_mode": {
    "name": "ipython",
    "version": 3
   },
   "file_extension": ".py",
   "mimetype": "text/x-python",
   "name": "python",
   "nbconvert_exporter": "python",
   "pygments_lexer": "ipython3",
   "version": "3.7.2"
  }
 },
 "nbformat": 4,
 "nbformat_minor": 2
}
