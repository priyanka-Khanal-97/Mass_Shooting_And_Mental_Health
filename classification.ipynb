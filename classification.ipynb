{
 "cells": [
  {
   "cell_type": "markdown",
   "metadata": {},
   "source": [
    "### Importing"
   ]
  },
  {
   "cell_type": "code",
   "execution_count": 6,
   "metadata": {},
   "outputs": [],
   "source": [
    "import pandas as pd\n",
    "import numpy as np\n",
    "from sklearn.tree import DecisionTreeClassifier\n",
    "from sklearn.metrics import confusion_matrix\n",
    "from sklearn.svm import SVC\n",
    "from sklearn.metrics import accuracy_score, precision_score, recall_score, f1_score"
   ]
  },
  {
   "cell_type": "markdown",
   "metadata": {},
   "source": [
    "# Initial Preparation"
   ]
  },
  {
   "cell_type": "code",
   "execution_count": 7,
   "metadata": {},
   "outputs": [
    {
     "name": "stdout",
     "output_type": "stream",
     "text": [
      "<class 'pandas.core.frame.DataFrame'>\n",
      "RangeIndex: 110 entries, 0 to 109\n",
      "Data columns (total 24 columns):\n",
      "case                                110 non-null object\n",
      "location                            110 non-null object\n",
      "date                                110 non-null object\n",
      "summary                             110 non-null object\n",
      "fatalities                          110 non-null int64\n",
      "injured                             110 non-null int64\n",
      "total_victims                       110 non-null int64\n",
      "location.1                          110 non-null object\n",
      "age_of_shooter                      110 non-null int64\n",
      "prior_signs_mental_health_issues    110 non-null int64\n",
      "mental_health_details               109 non-null object\n",
      "weapons_obtained_legally            110 non-null int64\n",
      "where_obtained                      109 non-null object\n",
      "weapon_type                         110 non-null object\n",
      "weapon_details                      110 non-null object\n",
      "race                                109 non-null object\n",
      "gender                              110 non-null object\n",
      "sources                             110 non-null object\n",
      "mental_health_sources               110 non-null object\n",
      "sources_additional_age              110 non-null object\n",
      "latitude                            110 non-null float64\n",
      "longitude                           110 non-null float64\n",
      "type                                110 non-null object\n",
      "year                                110 non-null int64\n",
      "dtypes: float64(2), int64(7), object(15)\n",
      "memory usage: 20.7+ KB\n",
      "77 33\n"
     ]
    }
   ],
   "source": [
    "data_frame = pd.read_csv('shooting.csv',encoding = 'unicode_escape')\n",
    "data_frame.info(verbose=True, null_counts=True)\n",
    "data_frame1 = data_frame.copy()\n",
    "data_frame1.drop(labels=[\"summary\",\"sources\",\"mental_health_sources\",\"sources_additional_age\",\"latitude\",\"longitude\"], axis='columns', inplace=True)\n",
    "data_frame2 = data_frame1.copy()\n",
    "data_frame1.dropna(axis='index', how='any', inplace=True)\n",
    "data_frame2.head()\n",
    "from sklearn.model_selection import train_test_split\n",
    "train_set, test_set = train_test_split(data_frame2, test_size=0.30, random_state=666)\n",
    "print(len(train_set), len(test_set))\n",
    "working_set = train_set.copy()"
   ]
  },
  {
   "cell_type": "markdown",
   "metadata": {},
   "source": [
    "I picked total_victims as my X and prior_signs_mental_health_issues as y. I picked these two beacause I wanted to see if these two attributes are related."
   ]
  },
  {
   "cell_type": "markdown",
   "metadata": {},
   "source": [
    "# Using Decision Tree"
   ]
  },
  {
   "cell_type": "code",
   "execution_count": 8,
   "metadata": {},
   "outputs": [
    {
     "data": {
      "text/plain": [
       "DecisionTreeClassifier(class_weight=None, criterion='gini', max_depth=None,\n",
       "            max_features=None, max_leaf_nodes=None,\n",
       "            min_impurity_decrease=0.0, min_impurity_split=None,\n",
       "            min_samples_leaf=1, min_samples_split=2,\n",
       "            min_weight_fraction_leaf=0.0, presort=False, random_state=None,\n",
       "            splitter='best')"
      ]
     },
     "execution_count": 8,
     "metadata": {},
     "output_type": "execute_result"
    }
   ],
   "source": [
    "X_working_classifier = working_set[[\"total_victims\"]]\n",
    "y_working_classifier = working_set[\"prior_signs_mental_health_issues\"]\n",
    "\n",
    "tree_classifier = DecisionTreeClassifier()\n",
    "tree_classifier.fit(X_working_classifier,y_working_classifier)"
   ]
  },
  {
   "cell_type": "markdown",
   "metadata": {},
   "source": [
    "### Training sets"
   ]
  },
  {
   "cell_type": "code",
   "execution_count": 9,
   "metadata": {},
   "outputs": [
    {
     "name": "stdout",
     "output_type": "stream",
     "text": [
      "The confusing matrix of training class is: \n",
      "[[16  2  3]\n",
      " [ 7 31  3]\n",
      " [ 3  6  6]]\n",
      "Accuracy of training class using classifier is  0.6883116883116883\n",
      "Precision of training class using classifier is  0.6884781884781884\n",
      "Sensitivity of training class using classifier is  0.6883116883116883\n",
      "F1 of training class using classifier is  0.6849290780141843\n"
     ]
    }
   ],
   "source": [
    "y_predicted_working_classifier = tree_classifier.predict(X_working_classifier)\n",
    "classifier_working_matrix = confusion_matrix(y_working_classifier,y_predicted_working_classifier)\n",
    "print(\"The confusing matrix of training class is: \")\n",
    "print(classifier_working_matrix)\n",
    "print (\"Accuracy of training class using classifier is \", accuracy_score(y_working_classifier, y_predicted_working_classifier ))\n",
    "\n",
    "print (\"Precision of training class using classifier is \", precision_score(y_working_classifier, y_predicted_working_classifier , average=\"weighted\"))\n",
    "print (\"Sensitivity of training class using classifier is \", recall_score(y_working_classifier,y_predicted_working_classifier , average=\"weighted\"))\n",
    "print (\"F1 of training class using classifier is \", f1_score(y_working_classifier, y_predicted_working_classifier , average=\"weighted\"))"
   ]
  },
  {
   "cell_type": "markdown",
   "metadata": {},
   "source": [
    "### Test set"
   ]
  },
  {
   "cell_type": "code",
   "execution_count": 10,
   "metadata": {},
   "outputs": [
    {
     "name": "stdout",
     "output_type": "stream",
     "text": [
      "The confusing matrix of testclass is: \n",
      "[[5 7 2]\n",
      " [7 8 2]\n",
      " [0 1 1]]\n",
      "Accuracy of test class using classifier is  0.42424242424242425\n",
      "Precision of test class using classifier is  0.4464646464646465\n",
      "Sensitivity of testclass using classifier is  0.42424242424242425\n",
      "F1 of test class using classifier is  0.4302566120747938\n"
     ]
    }
   ],
   "source": [
    "X_test_classifier = test_set[[\"total_victims\"]]\n",
    "y_test_classifier = test_set[\"prior_signs_mental_health_issues\"]\n",
    "\n",
    "y_predicted_test_classifier = tree_classifier.predict(X_test_classifier)\n",
    "classifier_test_matrix = confusion_matrix(y_test_classifier,y_predicted_test_classifier)\n",
    "print(\"The confusing matrix of testclass is: \")\n",
    "print(classifier_test_matrix)\n",
    "print (\"Accuracy of test class using classifier is \", accuracy_score(y_test_classifier, y_predicted_test_classifier ))\n",
    "\n",
    "print (\"Precision of test class using classifier is \", precision_score(y_test_classifier, y_predicted_test_classifier , average=\"weighted\"))\n",
    "print (\"Sensitivity of testclass using classifier is \", recall_score(y_test_classifier,y_predicted_test_classifier , average=\"weighted\"))\n",
    "print (\"F1 of test class using classifier is \", f1_score(y_test_classifier, y_predicted_test_classifier , average=\"weighted\"))"
   ]
  },
  {
   "cell_type": "markdown",
   "metadata": {},
   "source": [
    "# Using SVM \n",
    "\n",
    "### Training set"
   ]
  },
  {
   "cell_type": "code",
   "execution_count": 11,
   "metadata": {},
   "outputs": [
    {
     "name": "stdout",
     "output_type": "stream",
     "text": [
      "The confusion matrix for training set is: \n",
      "[[ 9 12  0]\n",
      " [ 1 40  0]\n",
      " [ 0 14  1]]\n",
      "Accuracy of training set is  0.6493506493506493\n",
      "Precision of training set is  0.7629673356946084\n",
      "Sensitivity of training set is  0.6493506493506493\n",
      "F1 of training set is  0.5808149869425118\n"
     ]
    },
    {
     "name": "stderr",
     "output_type": "stream",
     "text": [
      "C:\\Users\\s524702\\AppData\\Local\\Continuum\\anaconda3\\lib\\site-packages\\sklearn\\svm\\base.py:196: FutureWarning: The default value of gamma will change from 'auto' to 'scale' in version 0.22 to account better for unscaled features. Set gamma explicitly to 'auto' or 'scale' to avoid this warning.\n",
      "  \"avoid this warning.\", FutureWarning)\n"
     ]
    }
   ],
   "source": [
    "X = working_set[[\"total_victims\"]]\n",
    "y = working_set[\"prior_signs_mental_health_issues\"]\n",
    "svm_classifier = SVC(kernel=\"rbf\")\n",
    "svm_classifier.fit(X,y)\n",
    "\n",
    "y_predicted = svm_classifier.predict(X)\n",
    "matrix = confusion_matrix(y, y_predicted)\n",
    "print(\"The confusion matrix for training set is: \")\n",
    "print(matrix)\n",
    "print (\"Accuracy of training set is \", accuracy_score(y, y_predicted))\n",
    "print (\"Precision of training set is \", precision_score(y, y_predicted, average=\"weighted\"))\n",
    "print (\"Sensitivity of training set is \", recall_score(y, y_predicted, average=\"weighted\"))\n",
    "print (\"F1 of training set is \", f1_score(y, y_predicted, average=\"weighted\"))\n"
   ]
  },
  {
   "cell_type": "markdown",
   "metadata": {},
   "source": [
    "### Test Set"
   ]
  },
  {
   "cell_type": "code",
   "execution_count": 12,
   "metadata": {},
   "outputs": [
    {
     "name": "stdout",
     "output_type": "stream",
     "text": [
      "The confusion matrix is for test set : \n",
      "[[12  2  0]\n",
      " [ 3 14  0]\n",
      " [ 1  1  0]]\n",
      "Accuracy for test set is  0.7878787878787878\n",
      "Precision for test set is  0.7424242424242424\n",
      "Sensitivity for test set is  0.7878787878787878\n",
      "F1 for test set is  0.7636363636363637\n"
     ]
    },
    {
     "name": "stderr",
     "output_type": "stream",
     "text": [
      "C:\\Users\\s524702\\AppData\\Local\\Continuum\\anaconda3\\lib\\site-packages\\sklearn\\svm\\base.py:196: FutureWarning: The default value of gamma will change from 'auto' to 'scale' in version 0.22 to account better for unscaled features. Set gamma explicitly to 'auto' or 'scale' to avoid this warning.\n",
      "  \"avoid this warning.\", FutureWarning)\n",
      "C:\\Users\\s524702\\AppData\\Local\\Continuum\\anaconda3\\lib\\site-packages\\sklearn\\metrics\\classification.py:1143: UndefinedMetricWarning: Precision is ill-defined and being set to 0.0 in labels with no predicted samples.\n",
      "  'precision', 'predicted', average, warn_for)\n",
      "C:\\Users\\s524702\\AppData\\Local\\Continuum\\anaconda3\\lib\\site-packages\\sklearn\\metrics\\classification.py:1143: UndefinedMetricWarning: F-score is ill-defined and being set to 0.0 in labels with no predicted samples.\n",
      "  'precision', 'predicted', average, warn_for)\n"
     ]
    }
   ],
   "source": [
    "X_test = test_set[[\"total_victims\"]]\n",
    "y_test = test_set[\"prior_signs_mental_health_issues\"]\n",
    "svm_classifier = SVC(kernel=\"rbf\")\n",
    "svm_classifier.fit(X_test,y_test)\n",
    "\n",
    "y_predicted_test= svm_classifier.predict(X_test)\n",
    "matrix_test = confusion_matrix(y_test, y_predicted_test)\n",
    "print(\"The confusion matrix is for test set : \")\n",
    "print(matrix_test)\n",
    "print (\"Accuracy for test set is \", accuracy_score(y_test, y_predicted_test))\n",
    "print (\"Precision for test set is \", precision_score(y_test, y_predicted_test, average=\"weighted\"))\n",
    "print (\"Sensitivity for test set is \", recall_score(y_test, y_predicted_test, average=\"weighted\"))\n",
    "print (\"F1 for test set is \", f1_score(y_test, y_predicted_test, average=\"weighted\"))"
   ]
  },
  {
   "cell_type": "markdown",
   "metadata": {},
   "source": [
    "# Analysis"
   ]
  },
  {
   "cell_type": "markdown",
   "metadata": {},
   "source": [
    "The accuracy and F1 score using SVM is better than using tree classifier. The accuracy of the test set is 42% using decision tree whereas the accuracy of test set using SVM is 78%. The same way, f1 score using decision tree for the test set is 43% where as f1 score using 76%. \n",
    "\n",
    "I picked total_victims and prior_signs_mental_health_issues to see various metrics of classification. SVM worked better in classification. 78% of the data was accuratly clasified with 74% precision. "
   ]
  },
  {
   "cell_type": "markdown",
   "metadata": {},
   "source": [
    "# K-Means Clustering"
   ]
  },
  {
   "cell_type": "code",
   "execution_count": 32,
   "metadata": {},
   "outputs": [],
   "source": [
    "from sklearn.cluster import KMeans\n",
    "X = working_set[[\"weapons_obtained_legally\", 'prior_signs_mental_health_issues']]\n",
    "kmeans_classifier = KMeans(n_clusters=3)\n",
    "kmeans_classifier.fit(X)\n",
    "cluster_x = [x for [x,y] in kmeans_classifier.cluster_centers_]\n",
    "cluster_y = [y for [x,y] in kmeans_classifier.cluster_centers_]\n",
    "import matplotlib.pyplot as plt\n",
    "plt.scatter(working_set['weapons_obtained_legally'], working_set['prior_signs_mental_health_issues'], c=kmeans_classifier.labels_)\n",
    "plt.scatter(cluster_x, cluster_y, marker=\"+\", color=\"red\")\n",
    "plt.xlabel(\"X\")\n",
    "plt.ylabel(\"Y\")\n",
    "plt.show()\n",
    "\n",
    "plt.scatter(working_set['weapons_obtained_legally'], working_set['prior_signs_mental_health_issues'], c=kmeans_classifier.labels_)\n",
    "plt.scatter(cluster_x, cluster_y, marker=\"+\", color=\"red\")\n",
    "plt.xlabel(\"X\")\n",
    "plt.ylabel(\"Y\")\n",
    "plt.axis(\"scaled\")\n",
    "plt.show()"
   ]
  },
  {
   "cell_type": "code",
   "execution_count": 33,
   "metadata": {},
   "outputs": [],
   "source": [
    "from sklearn.cluster import KMeans\n",
    "X = test_set[[\"weapons_obtained_legally\", 'prior_signs_mental_health_issues']]\n",
    "kmeans_classifier = KMeans(n_clusters=3)\n",
    "kmeans_classifier.fit(X)\n",
    "cluster_x = [x for [x,y] in kmeans_classifier.cluster_centers_]\n",
    "cluster_y = [y for [x,y] in kmeans_classifier.cluster_centers_]\n",
    "import matplotlib.pyplot as plt\n",
    "plt.scatter(test_set['weapons_obtained_legally'], test_set['prior_signs_mental_health_issues'], c=kmeans_classifier.labels_)\n",
    "plt.scatter(cluster_x, cluster_y, marker=\"+\", color=\"red\")\n",
    "plt.xlabel(\"X\")\n",
    "plt.ylabel(\"Y\")\n",
    "plt.show()\n",
    "\n",
    "plt.scatter(test_set['weapons_obtained_legally'], test_set['prior_signs_mental_health_issues'], c=kmeans_classifier.labels_)\n",
    "plt.scatter(cluster_x, cluster_y, marker=\"+\", color=\"red\")\n",
    "plt.xlabel(\"Weapons_obtained_legally\")\n",
    "plt.ylabel(\"prior_signs_mental_health_issues\")\n",
    "plt.title(\"Test set\")\n",
    "plt.axis(\"scaled\")\n",
    "plt.show()"
   ]
  },
  {
   "cell_type": "code",
   "execution_count": null,
   "metadata": {},
   "outputs": [],
   "source": []
  }
 ],
 "metadata": {
  "kernelspec": {
   "display_name": "Python 3 (Spyder)",
   "language": "python3",
   "name": "python3"
  },
  "language_info": {
   "codemirror_mode": {
    "name": "ipython",
    "version": 3
   },
   "file_extension": ".py",
   "mimetype": "text/x-python",
   "name": "python",
   "nbconvert_exporter": "python",
   "pygments_lexer": "ipython3",
   "version": "3.7.1"
  }
 },
 "nbformat": 4,
 "nbformat_minor": 2
}
