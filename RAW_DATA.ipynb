{
 "cells": [
  {
   "cell_type": "markdown",
   "metadata": {},
   "source": [
    "# RAW_DATA"
   ]
  },
  {
   "cell_type": "markdown",
   "metadata": {},
   "source": [
    "The data used in this project was acquired from an article in  Mother Jones' titled Mother Jones - Mass Shootings Database, 1982 - 2019.\n",
    "Original Link: https://www.motherjones.com/politics/2012/12/mass-shootings-mother-jones-full-data/\n",
    "\n",
    "Link in the repository: https://github.com/44-599-machine-learning-S19/machine-learning-project-priyanka-khanal/blob/master/shooting.csv\n",
    "\n"
   ]
  }
 ],
 "metadata": {
  "kernelspec": {
   "display_name": "Python 3 (Spyder)",
   "language": "python3",
   "name": "python3"
  },
  "language_info": {
   "codemirror_mode": {
    "name": "ipython",
    "version": 3
   },
   "file_extension": ".py",
   "mimetype": "text/x-python",
   "name": "python",
   "nbconvert_exporter": "python",
   "pygments_lexer": "ipython3",
   "version": "3.7.1"
  }
 },
 "nbformat": 4,
 "nbformat_minor": 2
}
