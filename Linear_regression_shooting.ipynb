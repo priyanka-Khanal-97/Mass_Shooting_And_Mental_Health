{
 "cells": [
  {
   "cell_type": "markdown",
   "metadata": {},
   "source": [
    "# Initial Preparation"
   ]
  },
  {
   "cell_type": "code",
   "execution_count": 1,
   "metadata": {},
   "outputs": [
    {
     "name": "stdout",
     "output_type": "stream",
     "text": [
      "<class 'pandas.core.frame.DataFrame'>\n",
      "RangeIndex: 110 entries, 0 to 109\n",
      "Data columns (total 24 columns):\n",
      "case                                110 non-null object\n",
      "location                            110 non-null object\n",
      "date                                110 non-null object\n",
      "summary                             110 non-null object\n",
      "fatalities                          110 non-null int64\n",
      "injured                             110 non-null int64\n",
      "total_victims                       110 non-null int64\n",
      "location.1                          110 non-null object\n",
      "age_of_shooter                      110 non-null int64\n",
      "prior_signs_mental_health_issues    110 non-null int64\n",
      "mental_health_details               109 non-null object\n",
      "weapons_obtained_legally            110 non-null int64\n",
      "where_obtained                      109 non-null object\n",
      "weapon_type                         110 non-null object\n",
      "weapon_details                      110 non-null object\n",
      "race                                109 non-null object\n",
      "gender                              110 non-null object\n",
      "sources                             110 non-null object\n",
      "mental_health_sources               110 non-null object\n",
      "sources_additional_age              110 non-null object\n",
      "latitude                            110 non-null float64\n",
      "longitude                           110 non-null float64\n",
      "type                                110 non-null object\n",
      "year                                110 non-null int64\n",
      "dtypes: float64(2), int64(7), object(15)\n",
      "memory usage: 20.7+ KB\n",
      "77 33\n"
     ]
    }
   ],
   "source": [
    "import pandas as pd\n",
    "import numpy as np\n",
    "data_frame = pd.read_csv('shooting.csv',encoding = 'unicode_escape')\n",
    "data_frame.info(verbose=True, null_counts=True)\n",
    "data_frame1 = data_frame.copy()\n",
    "data_frame1.drop(labels=[\"summary\",\"sources\",\"mental_health_sources\",\"sources_additional_age\",\"latitude\",\"longitude\"], axis='columns', inplace=True)\n",
    "data_frame2 = data_frame1.copy()\n",
    "data_frame1.dropna(axis='index', how='any', inplace=True)\n",
    "data_frame2.head()\n",
    "from sklearn.model_selection import train_test_split\n",
    "train_set, test_set = train_test_split(data_frame2, test_size=0.30, random_state=666)\n",
    "print(len(train_set), len(test_set))\n",
    "working_set = train_set.copy()"
   ]
  },
  {
   "cell_type": "markdown",
   "metadata": {},
   "source": [
    "# Linear Regression"
   ]
  },
  {
   "cell_type": "code",
   "execution_count": 2,
   "metadata": {},
   "outputs": [
    {
     "name": "stdout",
     "output_type": "stream",
     "text": [
      "The r^2 is:  0.027506971129332536\n",
      "mean squared error is:  0.4487672334272466\n"
     ]
    }
   ],
   "source": [
    "from sklearn.linear_model import LinearRegression\n",
    "from sklearn.metrics import mean_squared_error\n",
    "reg = LinearRegression()\n",
    "X = working_set[[\"total_victims\"]]\n",
    "Y = working_set[[\"prior_signs_mental_health_issues\"]]\n",
    "reg.fit(X, Y)\n",
    "print(\"The r^2 is: \", reg.score(X,Y))\n",
    "y_pred = reg.predict(X)\n",
    "mse = mean_squared_error(Y, y_pred)\n",
    "print(\"mean squared error is: \",  mse)"
   ]
  },
  {
   "cell_type": "markdown",
   "metadata": {},
   "source": [
    "I picked total_victims as my X and prior_signs_mental_health_issues as y. I picked these two beacause I wanted to see if these two attributes are related. The r^2 is low which means the model doesn't fit data. "
   ]
  },
  {
   "cell_type": "code",
   "execution_count": 3,
   "metadata": {},
   "outputs": [
    {
     "name": "stdout",
     "output_type": "stream",
     "text": [
      "The r^2 is:  0.016028004573653977\n",
      "mean squared error is:  0.3928253859291888\n"
     ]
    }
   ],
   "source": [
    "X = working_set[[\"total_victims\"]]\n",
    "Y = working_set[[\"weapons_obtained_legally\",\"prior_signs_mental_health_issues\"]]\n",
    "reg.fit(X, Y)\n",
    "print(\"The r^2 is: \", reg.score(X,Y))\n",
    "y_pred = reg.predict(X)\n",
    "mse = mean_squared_error(Y, y_pred)\n",
    "print(\"mean squared error is: \",  mse)"
   ]
  },
  {
   "cell_type": "markdown",
   "metadata": {},
   "source": [
    "After adding weapons_obtained_legally in the y target feature, the r^2 decresed a little. MSE on the other hand decreased which is good for the model."
   ]
  },
  {
   "cell_type": "code",
   "execution_count": 4,
   "metadata": {},
   "outputs": [
    {
     "name": "stdout",
     "output_type": "stream",
     "text": [
      "The r^2 is:  0.0104843937023682\n",
      "mean squared error is:  0.348920103598063\n"
     ]
    }
   ],
   "source": [
    "X = test_set[[\"total_victims\"]]\n",
    "Y = test_set[[\"prior_signs_mental_health_issues\"]]\n",
    "reg.fit(X, Y)\n",
    "print(\"The r^2 is: \", reg.score(X,Y))\n",
    "y_pred = reg.predict(X)\n",
    "mse = mean_squared_error(Y, y_pred)\n",
    "print(\"mean squared error is: \",  mse)"
   ]
  },
  {
   "cell_type": "markdown",
   "metadata": {},
   "source": [
    "The r^2 value did decrease in the second analysis compared to the first one. But the MSE also decreased which is better for the model."
   ]
  },
  {
   "cell_type": "markdown",
   "metadata": {},
   "source": [
    "The r^2 is low in this model but that might be because of smaller datasets. "
   ]
  },
  {
   "cell_type": "code",
   "execution_count": 5,
   "metadata": {},
   "outputs": [
    {
     "name": "stdout",
     "output_type": "stream",
     "text": [
      "The r^2 is:  0.013458776708216554\n",
      "mean squared error is:  0.28626907856768\n"
     ]
    }
   ],
   "source": [
    "X = test_set[[\"total_victims\"]]\n",
    "Y = test_set[[\"weapons_obtained_legally\",\"prior_signs_mental_health_issues\"]]\n",
    "reg.fit(X, Y)\n",
    "print(\"The r^2 is: \", reg.score(X,Y))\n",
    "y_pred = reg.predict(X)\n",
    "mse = mean_squared_error(Y, y_pred)\n",
    "print(\"mean squared error is: \",  mse)"
   ]
  }
 ],
 "metadata": {
  "kernelspec": {
   "display_name": "Python 3 (Spyder)",
   "language": "python3",
   "name": "python3"
  },
  "language_info": {
   "codemirror_mode": {
    "name": "ipython",
    "version": 3
   },
   "file_extension": ".py",
   "mimetype": "text/x-python",
   "name": "python",
   "nbconvert_exporter": "python",
   "pygments_lexer": "ipython3",
   "version": "3.7.1"
  }
 },
 "nbformat": 4,
 "nbformat_minor": 2
}
