{
 "cells": [
  {
   "cell_type": "markdown",
   "metadata": {},
   "source": [
    "## CONCLUSIONS"
   ]
  },
  {
   "cell_type": "markdown",
   "metadata": {},
   "source": [
    "The r-sqaured and MSE of the features were very very low which usually means there is no relationship between total victims and prior signs of mental health. So, blaming the mental health if the shooter is not an appropriate conclusion based on the database.\n",
    "\n",
    "Along with that, accuracy and F1-score of these features was also not high. This also solidifies the previous conclusion drawn from the linear regression.\n",
    "\n",
    "One more algorithm was performed in the project which was finding clusters between legal obtaining of weapon and mental health signs. There is no clusters found. This again proves that just blaming mental health of the shooters is not the correct conclusion for blaming this mass shooting. "
   ]
  },
  {
   "cell_type": "markdown",
   "metadata": {},
   "source": [
    "Additional links for the conclusions drawn:\n",
    "https://github.com/44-599-machine-learning-S19/machine-learning-project-priyanka-khanal/blob/master/initial_exploration_shooting.ipynb\n",
    "\n",
    "https://github.com/44-599-machine-learning-S19/machine-learning-project-priyanka-khanal/blob/master/classification.ipynb\n",
    "\n",
    "https://github.com/44-599-machine-learning-S19/machine-learning-project-priyanka-khanal/blob/master/classification.ipynb\n"
   ]
  },
  {
   "cell_type": "code",
   "execution_count": null,
   "metadata": {},
   "outputs": [],
   "source": []
  }
 ],
 "metadata": {
  "kernelspec": {
   "display_name": "Python 3 (Spyder)",
   "language": "python3",
   "name": "python3"
  },
  "language_info": {
   "codemirror_mode": {
    "name": "ipython",
    "version": 3
   },
   "file_extension": ".py",
   "mimetype": "text/x-python",
   "name": "python",
   "nbconvert_exporter": "python",
   "pygments_lexer": "ipython3",
   "version": "3.7.1"
  }
 },
 "nbformat": 4,
 "nbformat_minor": 2
}
