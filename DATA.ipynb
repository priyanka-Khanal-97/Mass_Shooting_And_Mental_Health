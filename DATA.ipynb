{
 "cells": [
  {
   "cell_type": "markdown",
   "metadata": {},
   "source": [
    "# DATA"
   ]
  },
  {
   "cell_type": "markdown",
   "metadata": {},
   "source": [
    "The original dataset had 24 columns.The main purpose of the project was to find any relation between total number of victims and prior signs of mental health issues.The question that the project wanted to answe was if  people with prior signs of mental health issues have killed more people in mass shooting? Along with that if there is relationship between prior mental health signs and legally obtaining of weapons. \n",
    "\n",
    "6 Columns were dropped. 70% of dataset was split into training and 30% of dataset was test. "
   ]
  },
  {
   "cell_type": "markdown",
   "metadata": {},
   "source": [
    "Initial Exploration of the data is done in the noteboook linked: \n",
    "https://github.com/44-599-machine-learning-S19/machine-learning-project-priyanka-khanal/blob/master/initial_exploration_shooting.ipynb"
   ]
  },
  {
   "cell_type": "code",
   "execution_count": null,
   "metadata": {},
   "outputs": [],
   "source": []
  }
 ],
 "metadata": {
  "kernelspec": {
   "display_name": "Python 3 (Spyder)",
   "language": "python3",
   "name": "python3"
  },
  "language_info": {
   "codemirror_mode": {
    "name": "ipython",
    "version": 3
   },
   "file_extension": ".py",
   "mimetype": "text/x-python",
   "name": "python",
   "nbconvert_exporter": "python",
   "pygments_lexer": "ipython3",
   "version": "3.7.1"
  }
 },
 "nbformat": 4,
 "nbformat_minor": 2
}
